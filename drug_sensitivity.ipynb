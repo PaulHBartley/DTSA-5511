{
 "cells": [
  {
   "cell_type": "code",
   "execution_count": 2,
   "id": "bc1d9388",
   "metadata": {},
   "outputs": [],
   "source": [
    "import numpy as np\n",
    "import pandas as pd\n",
    "import os\n",
    "from tdc.multi_pred import DrugRes"
   ]
  },
  {
   "cell_type": "code",
   "execution_count": 3,
   "id": "4f2b8be8",
   "metadata": {},
   "outputs": [
    {
     "name": "stderr",
     "output_type": "stream",
     "text": [
      "Found local copy...\n",
      "Loading...\n",
      "Done!\n"
     ]
    },
    {
     "name": "stdout",
     "output_type": "stream",
     "text": [
      "Dataset loaded successfully!\n"
     ]
    },
    {
     "data": {
      "text/html": [
       "<div>\n",
       "<style scoped>\n",
       "    .dataframe tbody tr th:only-of-type {\n",
       "        vertical-align: middle;\n",
       "    }\n",
       "\n",
       "    .dataframe tbody tr th {\n",
       "        vertical-align: top;\n",
       "    }\n",
       "\n",
       "    .dataframe thead th {\n",
       "        text-align: right;\n",
       "    }\n",
       "</style>\n",
       "<table border=\"1\" class=\"dataframe\">\n",
       "  <thead>\n",
       "    <tr style=\"text-align: right;\">\n",
       "      <th></th>\n",
       "      <th>Drug_ID</th>\n",
       "      <th>Drug</th>\n",
       "      <th>Cell Line_ID</th>\n",
       "      <th>Cell Line</th>\n",
       "      <th>Y</th>\n",
       "    </tr>\n",
       "  </thead>\n",
       "  <tbody>\n",
       "    <tr>\n",
       "      <th>0</th>\n",
       "      <td>Erlotinib</td>\n",
       "      <td>COCCOC1=C(C=C2C(=C1)C(=NC=N2)NC3=CC=CC(=C3)C#C...</td>\n",
       "      <td>MC-CAR</td>\n",
       "      <td>[3.23827250519154, 2.98225419469807, 10.235490...</td>\n",
       "      <td>2.395685</td>\n",
       "    </tr>\n",
       "    <tr>\n",
       "      <th>1</th>\n",
       "      <td>Erlotinib</td>\n",
       "      <td>COCCOC1=C(C=C2C(=C1)C(=NC=N2)NC3=CC=CC(=C3)C#C...</td>\n",
       "      <td>ES3</td>\n",
       "      <td>[8.690197905033282, 3.0914731119366, 9.9924871...</td>\n",
       "      <td>3.140923</td>\n",
       "    </tr>\n",
       "    <tr>\n",
       "      <th>2</th>\n",
       "      <td>Erlotinib</td>\n",
       "      <td>COCCOC1=C(C=C2C(=C1)C(=NC=N2)NC3=CC=CC(=C3)C#C...</td>\n",
       "      <td>ES5</td>\n",
       "      <td>[8.233101127037282, 2.82468731112752, 10.01588...</td>\n",
       "      <td>3.968757</td>\n",
       "    </tr>\n",
       "    <tr>\n",
       "      <th>3</th>\n",
       "      <td>Erlotinib</td>\n",
       "      <td>COCCOC1=C(C=C2C(=C1)C(=NC=N2)NC3=CC=CC(=C3)C#C...</td>\n",
       "      <td>ES7</td>\n",
       "      <td>[8.33346622426757, 3.9667571228514302, 9.79399...</td>\n",
       "      <td>2.692768</td>\n",
       "    </tr>\n",
       "    <tr>\n",
       "      <th>4</th>\n",
       "      <td>Erlotinib</td>\n",
       "      <td>COCCOC1=C(C=C2C(=C1)C(=NC=N2)NC3=CC=CC(=C3)C#C...</td>\n",
       "      <td>EW-11</td>\n",
       "      <td>[8.39134072442845, 2.9683601858810698, 10.2606...</td>\n",
       "      <td>2.478678</td>\n",
       "    </tr>\n",
       "  </tbody>\n",
       "</table>\n",
       "</div>"
      ],
      "text/plain": [
       "     Drug_ID                                               Drug Cell Line_ID  \\\n",
       "0  Erlotinib  COCCOC1=C(C=C2C(=C1)C(=NC=N2)NC3=CC=CC(=C3)C#C...       MC-CAR   \n",
       "1  Erlotinib  COCCOC1=C(C=C2C(=C1)C(=NC=N2)NC3=CC=CC(=C3)C#C...          ES3   \n",
       "2  Erlotinib  COCCOC1=C(C=C2C(=C1)C(=NC=N2)NC3=CC=CC(=C3)C#C...          ES5   \n",
       "3  Erlotinib  COCCOC1=C(C=C2C(=C1)C(=NC=N2)NC3=CC=CC(=C3)C#C...          ES7   \n",
       "4  Erlotinib  COCCOC1=C(C=C2C(=C1)C(=NC=N2)NC3=CC=CC(=C3)C#C...        EW-11   \n",
       "\n",
       "                                           Cell Line         Y  \n",
       "0  [3.23827250519154, 2.98225419469807, 10.235490...  2.395685  \n",
       "1  [8.690197905033282, 3.0914731119366, 9.9924871...  3.140923  \n",
       "2  [8.233101127037282, 2.82468731112752, 10.01588...  3.968757  \n",
       "3  [8.33346622426757, 3.9667571228514302, 9.79399...  2.692768  \n",
       "4  [8.39134072442845, 2.9683601858810698, 10.2606...  2.478678  "
      ]
     },
     "execution_count": 3,
     "metadata": {},
     "output_type": "execute_result"
    }
   ],
   "source": [
    "# Load the GDSC dataset from TDC using a valid name\n",
    "data = DrugRes(name = 'gdsc1')\n",
    "\n",
    "# Get the entire dataset as a pandas dataframe\n",
    "gdsc1_df = data.get_data()\n",
    "\n",
    "# Display the dataframe to see its structure\n",
    "print(\"Dataset loaded successfully!\")\n",
    "gdsc1_df.head()"
   ]
  },
  {
   "cell_type": "code",
   "execution_count": 4,
   "id": "35c95dc7",
   "metadata": {},
   "outputs": [
    {
     "name": "stdout",
     "output_type": "stream",
     "text": [
      "Available attributes:\n",
      "['aux_column', 'aux_column_val', 'balanced', 'binarize', 'convert_from_log', 'convert_to_log', 'entity1', 'entity1_idx', 'entity1_name', 'entity2', 'entity2_idx', 'entity2_name', 'file_format', 'get_data', 'get_gene_symbols', 'get_label_meaning', 'get_split', 'label_distribution', 'label_name', 'log_flag', 'name', 'neg_sample', 'path', 'print_stats', 'raw_y', 'to_graph', 'two_types', 'y']\n",
      "\n",
      "label_name not available\n",
      "\n",
      "get_gene_names() not available\n"
     ]
    }
   ],
   "source": [
    "# Method 1: Check what attributes are available\n",
    "print(\"Available attributes:\")\n",
    "print([attr for attr in dir(data) if not attr.startswith('_')])\n",
    "\n",
    "# Method 2: Try to get gene names from the label_name attribute\n",
    "try:\n",
    "    gene_labels = data.label_name\n",
    "    print(f\"\\nGene labels from label_name: {gene_labels[:10]}\")\n",
    "except:\n",
    "    print(\"\\nlabel_name not available\")\n",
    "\n",
    "# Method 3: Get gene names from the auxiliary info\n",
    "try:\n",
    "    gene_info = data.get_gene_names()\n",
    "    print(f\"\\nGene names: {gene_info[:10]}\")\n",
    "except:\n",
    "    print(\"\\nget_gene_names() not available\")\n",
    "\n",
    "# Method 4: Check the shape and see if we can infer gene count\n",
    "# Extract one cell line's gene expression to see the structure\n",
    "sample_expression = gdsc1_df['Y'].iloc[0]\n",
    "if isinstance(sample_expression, (list, np.ndarray)):\n",
    "    print(f\"\\nNumber of features in each cell line: {len(sample_expression)}\")\n",
    "    print(f\"First 5 values: {sample_expression[:5]}\")"
   ]
  },
  {
   "cell_type": "code",
   "execution_count": 5,
   "id": "b8a3bd79",
   "metadata": {},
   "outputs": [
    {
     "name": "stderr",
     "output_type": "stream",
     "text": [
      "Found local copy...\n",
      "Loading...\n"
     ]
    },
    {
     "name": "stdout",
     "output_type": "stream",
     "text": [
      "Total number of genes: 17737\n",
      "\n",
      "First 20 gene symbols:\n",
      "['TSPAN6' 'TNMD' 'DPM1' 'SCYL3' 'C1orf112' 'FGR' 'CFH' 'FUCA2' 'GCLC'\n",
      " 'NFYA' 'STPG1' 'NIPAL3' 'LAS1L' 'ENPP4' 'SEMA3F' 'CFTR' 'ANKIB1' 'KRIT1'\n",
      " 'RAD52' 'BAD']\n"
     ]
    }
   ],
   "source": [
    "# Get the gene symbols\n",
    "gene_labels = data.get_gene_symbols()\n",
    "print(f\"Total number of genes: {len(gene_labels)}\")\n",
    "print(f\"\\nFirst 20 gene symbols:\")\n",
    "print(gene_labels[:20])"
   ]
  },
  {
   "cell_type": "code",
   "execution_count": 6,
   "id": "3fdfd4a4",
   "metadata": {},
   "outputs": [
    {
     "data": {
      "text/plain": [
       "numpy.ndarray"
      ]
     },
     "execution_count": 6,
     "metadata": {},
     "output_type": "execute_result"
    }
   ],
   "source": [
    "type(gene_labels)"
   ]
  },
  {
   "cell_type": "code",
   "execution_count": 7,
   "id": "dffc2b73",
   "metadata": {},
   "outputs": [
    {
     "data": {
      "text/plain": [
       "(17737,)"
      ]
     },
     "execution_count": 7,
     "metadata": {},
     "output_type": "execute_result"
    }
   ],
   "source": [
    "gene_labels.shape"
   ]
  },
  {
   "cell_type": "code",
   "execution_count": 9,
   "id": "c0ae35ad",
   "metadata": {},
   "outputs": [
    {
     "name": "stdout",
     "output_type": "stream",
     "text": [
      "\n",
      "DataFrame columns: ['Drug_ID', 'Drug', 'Cell Line_ID', 'Cell Line', 'Y']\n",
      "\n",
      "DataFrame shape: (177310, 5)\n",
      "\n",
      "First row:\n",
      "Drug_ID                                                 Erlotinib\n",
      "Drug            COCCOC1=C(C=C2C(=C1)C(=NC=N2)NC3=CC=CC(=C3)C#C...\n",
      "Cell Line_ID                                               MC-CAR\n",
      "Cell Line       [3.23827250519154, 2.98225419469807, 10.235490...\n",
      "Y                                                        2.395685\n",
      "Name: 0, dtype: object\n",
      "\n",
      "Type of Cell Line data: <class 'numpy.ndarray'>\n",
      "Number of features in each cell line: 17737\n",
      "Number of gene labels: 17737\n",
      "Do dimensions match? True\n",
      "\n",
      "Example - First cell line (MC-CAR):\n",
      "Drug: Erlotinib\n",
      "IC50 (target): 2.395685\n",
      "\n",
      "First 5 gene expression values with labels:\n",
      "  TSPAN6: 3.2383\n",
      "  TNMD: 2.9823\n",
      "  DPM1: 10.2355\n",
      "  SCYL3: 4.8561\n",
      "  C1orf112: 4.0789\n"
     ]
    }
   ],
   "source": [
    "# Check the dataframe columns to find where gene expression is stored\n",
    "print(f\"\\nDataFrame columns: {gdsc1_df.columns.tolist()}\")\n",
    "print(f\"\\nDataFrame shape: {gdsc1_df.shape}\")\n",
    "print(f\"\\nFirst row:\")\n",
    "print(gdsc1_df.iloc[0])\n",
    "\n",
    "# The gene expression should be in the 'Cell Line' column based on your screenshot\n",
    "sample_expression = gdsc1_df['Cell Line'].iloc[0]\n",
    "print(f\"\\nType of Cell Line data: {type(sample_expression)}\")\n",
    "\n",
    "if isinstance(sample_expression, (list, np.ndarray)):\n",
    "    print(f\"Number of features in each cell line: {len(sample_expression)}\")\n",
    "    print(f\"Number of gene labels: {len(gene_labels)}\")\n",
    "    print(f\"Do dimensions match? {len(sample_expression) == len(gene_labels)}\")\n",
    "    \n",
    "    # Show example\n",
    "    print(f\"\\nExample - First cell line ({gdsc1_df['Cell Line_ID'].iloc[0]}):\")\n",
    "    print(f\"Drug: {gdsc1_df['Drug_ID'].iloc[0]}\")\n",
    "    print(f\"IC50 (target): {gdsc1_df['Y'].iloc[0]}\")\n",
    "    \n",
    "    # Create a mapping of gene to expression value\n",
    "    gene_expression_dict = dict(zip(gene_labels, sample_expression))\n",
    "    print(f\"\\nFirst 5 gene expression values with labels:\")\n",
    "    for i, (gene, value) in enumerate(list(gene_expression_dict.items())[:5]):\n",
    "        print(f\"  {gene}: {value:.4f}\")\n",
    "else:\n",
    "    print(f\"Sample expression value: {sample_expression}\")\n",
    "    print(\"\\nLet me check if it's stored differently...\")\n"
   ]
  },
  {
   "cell_type": "code",
   "execution_count": 10,
   "id": "3cdff3fe",
   "metadata": {},
   "outputs": [
    {
     "data": {
      "text/plain": [
       "pandas.core.frame.DataFrame"
      ]
     },
     "execution_count": 10,
     "metadata": {},
     "output_type": "execute_result"
    }
   ],
   "source": [
    "type(gdsc1_df)"
   ]
  },
  {
   "cell_type": "code",
   "execution_count": 11,
   "id": "4df91eb8",
   "metadata": {},
   "outputs": [
    {
     "data": {
      "text/plain": [
       "['Drug_ID', 'Drug', 'Cell Line_ID', 'Cell Line', 'Y']"
      ]
     },
     "execution_count": 11,
     "metadata": {},
     "output_type": "execute_result"
    }
   ],
   "source": [
    "gdsc1_df.columns.to_list()"
   ]
  },
  {
   "cell_type": "code",
   "execution_count": null,
   "id": "58ea3d48",
   "metadata": {},
   "outputs": [],
   "source": [
    "gene_expression_df = pd.DataFrame(\n",
    "    gdsc1_df['Cell Line'].to_list(), \n",
    "    columns=gene_labels,\n",
    "    dtype=np.float32  # Use 32-bit floats instead of 64-bit\n",
    ")"
   ]
  },
  {
   "cell_type": "code",
   "execution_count": null,
   "id": "815c8439",
   "metadata": {},
   "outputs": [],
   "source": [
    "gene_expression_df.head()"
   ]
  },
  {
   "cell_type": "code",
   "execution_count": 12,
   "id": "c9a77e8d",
   "metadata": {},
   "outputs": [
    {
     "data": {
      "text/plain": [
       "(177310, 5)"
      ]
     },
     "execution_count": 12,
     "metadata": {},
     "output_type": "execute_result"
    }
   ],
   "source": [
    "gdsc1_df.shape"
   ]
  },
  {
   "cell_type": "code",
   "execution_count": null,
   "id": "f472109b",
   "metadata": {},
   "outputs": [],
   "source": [
    "# Extract the metadata columns from the original dataframe\n",
    "gdsc1_meta_df = gdsc1_df[['Drug_ID', 'Cell Line_ID', 'Y']]\n",
    "\n",
    "# Concatenate the metadata with the new gene expression dataframe\n",
    "gdsc1_processed_df = pd.concat([gdsc1_meta_df, gene_expression_df], axis=1)\n",
    "\n",
    "print(f\"Shape of the gdsc1_processed_df dataframe: {gdsc1_processed_df.shape}\")\n",
    "gdsc1_processed_df.head()"
   ]
  }
 ],
 "metadata": {
  "kernelspec": {
   "display_name": "py3.12",
   "language": "python",
   "name": "python3"
  },
  "language_info": {
   "codemirror_mode": {
    "name": "ipython",
    "version": 3
   },
   "file_extension": ".py",
   "mimetype": "text/x-python",
   "name": "python",
   "nbconvert_exporter": "python",
   "pygments_lexer": "ipython3",
   "version": "3.12.9"
  }
 },
 "nbformat": 4,
 "nbformat_minor": 5
}

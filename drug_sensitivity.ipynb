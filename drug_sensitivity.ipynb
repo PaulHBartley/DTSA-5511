{
 "cells": [
  {
   "cell_type": "code",
   "execution_count": 1,
   "id": "9a8d8a66",
   "metadata": {},
   "outputs": [
    {
     "name": "stdout",
     "output_type": "stream",
     "text": [
      "Warning: Looks like you're using an outdated `kagglehub` version (installed: 0.3.8), please consider upgrading to the latest version (0.3.13).\n",
      "Downloading from https://www.kaggle.com/api/v1/datasets/download/samiraalipour/genomics-of-drug-sensitivity-in-cancer-gdsc?dataset_version_number=2...\n"
     ]
    },
    {
     "name": "stderr",
     "output_type": "stream",
     "text": [
      "100%|██████████| 14.4M/14.4M [00:00<00:00, 26.0MB/s]"
     ]
    },
    {
     "name": "stdout",
     "output_type": "stream",
     "text": [
      "Extracting files...\n"
     ]
    },
    {
     "name": "stderr",
     "output_type": "stream",
     "text": [
      "\n"
     ]
    },
    {
     "name": "stdout",
     "output_type": "stream",
     "text": [
      "Path to dataset files: /Users/paulbartley/.cache/kagglehub/datasets/samiraalipour/genomics-of-drug-sensitivity-in-cancer-gdsc/versions/2\n"
     ]
    }
   ],
   "source": [
    "import kagglehub\n",
    "\n",
    "# Download latest version\n",
    "path = kagglehub.dataset_download(\"samiraalipour/genomics-of-drug-sensitivity-in-cancer-gdsc\")\n",
    "\n",
    "print(\"Path to dataset files:\", path)"
   ]
  },
  {
   "cell_type": "code",
   "execution_count": 3,
   "id": "bc1d9388",
   "metadata": {},
   "outputs": [],
   "source": [
    "import pandas as pd\n",
    "import os"
   ]
  },
  {
   "cell_type": "code",
   "execution_count": 4,
   "id": "7619c255",
   "metadata": {},
   "outputs": [
    {
     "data": {
      "text/plain": [
       "['GDSC_DATASET.csv',\n",
       " 'Compounds-annotation.csv',\n",
       " 'GDSC2-dataset.csv',\n",
       " 'Cell_Lines_Details.xlsx']"
      ]
     },
     "execution_count": 4,
     "metadata": {},
     "output_type": "execute_result"
    }
   ],
   "source": [
    "os.listdir(path)"
   ]
  },
  {
   "cell_type": "code",
   "execution_count": 5,
   "id": "7c90d0f0",
   "metadata": {},
   "outputs": [
    {
     "data": {
      "text/html": [
       "<div>\n",
       "<style scoped>\n",
       "    .dataframe tbody tr th:only-of-type {\n",
       "        vertical-align: middle;\n",
       "    }\n",
       "\n",
       "    .dataframe tbody tr th {\n",
       "        vertical-align: top;\n",
       "    }\n",
       "\n",
       "    .dataframe thead th {\n",
       "        text-align: right;\n",
       "    }\n",
       "</style>\n",
       "<table border=\"1\" class=\"dataframe\">\n",
       "  <thead>\n",
       "    <tr style=\"text-align: right;\">\n",
       "      <th></th>\n",
       "      <th>COSMIC_ID</th>\n",
       "      <th>CELL_LINE_NAME</th>\n",
       "      <th>TCGA_DESC</th>\n",
       "      <th>DRUG_ID</th>\n",
       "      <th>DRUG_NAME</th>\n",
       "      <th>LN_IC50</th>\n",
       "      <th>AUC</th>\n",
       "      <th>Z_SCORE</th>\n",
       "      <th>GDSC Tissue descriptor 1</th>\n",
       "      <th>GDSC Tissue descriptor 2</th>\n",
       "      <th>Cancer Type (matching TCGA label)</th>\n",
       "      <th>Microsatellite instability Status (MSI)</th>\n",
       "      <th>Screen Medium</th>\n",
       "      <th>Growth Properties</th>\n",
       "      <th>CNA</th>\n",
       "      <th>Gene Expression</th>\n",
       "      <th>Methylation</th>\n",
       "      <th>TARGET</th>\n",
       "      <th>TARGET_PATHWAY</th>\n",
       "    </tr>\n",
       "  </thead>\n",
       "  <tbody>\n",
       "    <tr>\n",
       "      <th>0</th>\n",
       "      <td>683667</td>\n",
       "      <td>PFSK-1</td>\n",
       "      <td>MB</td>\n",
       "      <td>1003</td>\n",
       "      <td>Camptothecin</td>\n",
       "      <td>-1.463887</td>\n",
       "      <td>0.930220</td>\n",
       "      <td>0.433123</td>\n",
       "      <td>nervous_system</td>\n",
       "      <td>medulloblastoma</td>\n",
       "      <td>MB</td>\n",
       "      <td>MSS/MSI-L</td>\n",
       "      <td>R</td>\n",
       "      <td>Adherent</td>\n",
       "      <td>Y</td>\n",
       "      <td>Y</td>\n",
       "      <td>Y</td>\n",
       "      <td>TOP1</td>\n",
       "      <td>DNA replication</td>\n",
       "    </tr>\n",
       "    <tr>\n",
       "      <th>1</th>\n",
       "      <td>684057</td>\n",
       "      <td>ES5</td>\n",
       "      <td>UNCLASSIFIED</td>\n",
       "      <td>1003</td>\n",
       "      <td>Camptothecin</td>\n",
       "      <td>-3.360586</td>\n",
       "      <td>0.791072</td>\n",
       "      <td>-0.599569</td>\n",
       "      <td>bone</td>\n",
       "      <td>ewings_sarcoma</td>\n",
       "      <td>NaN</td>\n",
       "      <td>MSS/MSI-L</td>\n",
       "      <td>R</td>\n",
       "      <td>Adherent</td>\n",
       "      <td>Y</td>\n",
       "      <td>Y</td>\n",
       "      <td>Y</td>\n",
       "      <td>TOP1</td>\n",
       "      <td>DNA replication</td>\n",
       "    </tr>\n",
       "    <tr>\n",
       "      <th>2</th>\n",
       "      <td>684059</td>\n",
       "      <td>ES7</td>\n",
       "      <td>UNCLASSIFIED</td>\n",
       "      <td>1003</td>\n",
       "      <td>Camptothecin</td>\n",
       "      <td>-5.044940</td>\n",
       "      <td>0.592660</td>\n",
       "      <td>-1.516647</td>\n",
       "      <td>bone</td>\n",
       "      <td>ewings_sarcoma</td>\n",
       "      <td>NaN</td>\n",
       "      <td>MSS/MSI-L</td>\n",
       "      <td>R</td>\n",
       "      <td>Adherent</td>\n",
       "      <td>Y</td>\n",
       "      <td>Y</td>\n",
       "      <td>Y</td>\n",
       "      <td>TOP1</td>\n",
       "      <td>DNA replication</td>\n",
       "    </tr>\n",
       "    <tr>\n",
       "      <th>3</th>\n",
       "      <td>684062</td>\n",
       "      <td>EW-11</td>\n",
       "      <td>UNCLASSIFIED</td>\n",
       "      <td>1003</td>\n",
       "      <td>Camptothecin</td>\n",
       "      <td>-3.741991</td>\n",
       "      <td>0.734047</td>\n",
       "      <td>-0.807232</td>\n",
       "      <td>bone</td>\n",
       "      <td>ewings_sarcoma</td>\n",
       "      <td>NaN</td>\n",
       "      <td>MSS/MSI-L</td>\n",
       "      <td>R</td>\n",
       "      <td>Adherent</td>\n",
       "      <td>Y</td>\n",
       "      <td>Y</td>\n",
       "      <td>Y</td>\n",
       "      <td>TOP1</td>\n",
       "      <td>DNA replication</td>\n",
       "    </tr>\n",
       "    <tr>\n",
       "      <th>4</th>\n",
       "      <td>684072</td>\n",
       "      <td>SK-ES-1</td>\n",
       "      <td>UNCLASSIFIED</td>\n",
       "      <td>1003</td>\n",
       "      <td>Camptothecin</td>\n",
       "      <td>-5.142961</td>\n",
       "      <td>0.582439</td>\n",
       "      <td>-1.570016</td>\n",
       "      <td>bone</td>\n",
       "      <td>ewings_sarcoma</td>\n",
       "      <td>NaN</td>\n",
       "      <td>MSS/MSI-L</td>\n",
       "      <td>R</td>\n",
       "      <td>Semi-Adherent</td>\n",
       "      <td>Y</td>\n",
       "      <td>Y</td>\n",
       "      <td>Y</td>\n",
       "      <td>TOP1</td>\n",
       "      <td>DNA replication</td>\n",
       "    </tr>\n",
       "  </tbody>\n",
       "</table>\n",
       "</div>"
      ],
      "text/plain": [
       "   COSMIC_ID CELL_LINE_NAME     TCGA_DESC  DRUG_ID     DRUG_NAME   LN_IC50  \\\n",
       "0     683667         PFSK-1            MB     1003  Camptothecin -1.463887   \n",
       "1     684057            ES5  UNCLASSIFIED     1003  Camptothecin -3.360586   \n",
       "2     684059            ES7  UNCLASSIFIED     1003  Camptothecin -5.044940   \n",
       "3     684062          EW-11  UNCLASSIFIED     1003  Camptothecin -3.741991   \n",
       "4     684072        SK-ES-1  UNCLASSIFIED     1003  Camptothecin -5.142961   \n",
       "\n",
       "        AUC   Z_SCORE GDSC Tissue descriptor 1 GDSC Tissue descriptor 2  \\\n",
       "0  0.930220  0.433123           nervous_system          medulloblastoma   \n",
       "1  0.791072 -0.599569                     bone           ewings_sarcoma   \n",
       "2  0.592660 -1.516647                     bone           ewings_sarcoma   \n",
       "3  0.734047 -0.807232                     bone           ewings_sarcoma   \n",
       "4  0.582439 -1.570016                     bone           ewings_sarcoma   \n",
       "\n",
       "  Cancer Type (matching TCGA label) Microsatellite instability Status (MSI)  \\\n",
       "0                                MB                               MSS/MSI-L   \n",
       "1                               NaN                               MSS/MSI-L   \n",
       "2                               NaN                               MSS/MSI-L   \n",
       "3                               NaN                               MSS/MSI-L   \n",
       "4                               NaN                               MSS/MSI-L   \n",
       "\n",
       "  Screen Medium Growth Properties CNA Gene Expression Methylation TARGET  \\\n",
       "0             R          Adherent   Y               Y           Y   TOP1   \n",
       "1             R          Adherent   Y               Y           Y   TOP1   \n",
       "2             R          Adherent   Y               Y           Y   TOP1   \n",
       "3             R          Adherent   Y               Y           Y   TOP1   \n",
       "4             R     Semi-Adherent   Y               Y           Y   TOP1   \n",
       "\n",
       "    TARGET_PATHWAY  \n",
       "0  DNA replication  \n",
       "1  DNA replication  \n",
       "2  DNA replication  \n",
       "3  DNA replication  \n",
       "4  DNA replication  "
      ]
     },
     "execution_count": 5,
     "metadata": {},
     "output_type": "execute_result"
    }
   ],
   "source": [
    "GDSC_DATASET_df = pd.read_csv(os.path.join(path, 'GDSC_DATASET.csv'))\n",
    "GDSC_DATASET_df.head()"
   ]
  }
 ],
 "metadata": {
  "kernelspec": {
   "display_name": "py3.12",
   "language": "python",
   "name": "python3"
  },
  "language_info": {
   "codemirror_mode": {
    "name": "ipython",
    "version": 3
   },
   "file_extension": ".py",
   "mimetype": "text/x-python",
   "name": "python",
   "nbconvert_exporter": "python",
   "pygments_lexer": "ipython3",
   "version": "3.12.9"
  }
 },
 "nbformat": 4,
 "nbformat_minor": 5
}
